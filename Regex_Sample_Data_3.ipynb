{
  "nbformat": 4,
  "nbformat_minor": 0,
  "metadata": {
    "colab": {
      "name": "Regex Sample Data 3.ipynb",
      "provenance": [],
      "collapsed_sections": [],
      "authorship_tag": "ABX9TyOjfbXbUV4F7ysCz+cJIuGQ",
      "include_colab_link": true
    },
    "kernelspec": {
      "name": "python3",
      "display_name": "Python 3"
    },
    "language_info": {
      "name": "python"
    }
  },
  "cells": [
    {
      "cell_type": "markdown",
      "metadata": {
        "id": "view-in-github",
        "colab_type": "text"
      },
      "source": [
        "<a href=\"https://colab.research.google.com/github/sparshmittal/Regex/blob/main/Regex_Sample_Data_3.ipynb\" target=\"_parent\"><img src=\"https://colab.research.google.com/assets/colab-badge.svg\" alt=\"Open In Colab\"/></a>"
      ]
    },
    {
      "cell_type": "code",
      "execution_count": 1,
      "metadata": {
        "id": "tcAFtouRxQEg"
      },
      "outputs": [],
      "source": [
        "import re"
      ]
    },
    {
      "cell_type": "code",
      "source": [
        "name = input('Enter file name')"
      ],
      "metadata": {
        "id": "zz2SQq8RFttM",
        "colab": {
          "base_uri": "https://localhost:8080/"
        },
        "outputId": "2749b67b-c447-4983-b5ee-777979e86221"
      },
      "execution_count": 18,
      "outputs": [
        {
          "name": "stdout",
          "output_type": "stream",
          "text": [
            "Enter file nameSample Data 3\n"
          ]
        }
      ]
    },
    {
      "cell_type": "code",
      "source": [
        "file = open(\"/content/\"+name+\".txt\", \"r\")\n",
        "data = file.read()\n",
        "print(file.read())"
      ],
      "metadata": {
        "colab": {
          "base_uri": "https://localhost:8080/"
        },
        "id": "8tfLyn-HxSQp",
        "outputId": "5aff922c-7949-42c9-c9c3-1de0bcbd7342"
      },
      "execution_count": 3,
      "outputs": [
        {
          "output_type": "stream",
          "name": "stdout",
          "text": [
            "\n"
          ]
        }
      ]
    },
    {
      "cell_type": "code",
      "source": [
        "data"
      ],
      "metadata": {
        "colab": {
          "base_uri": "https://localhost:8080/",
          "height": 140
        },
        "id": "P6M12m9Qx2lO",
        "outputId": "5ba5df9e-de95-4c92-be35-7ed093423e13"
      },
      "execution_count": 4,
      "outputs": [
        {
          "output_type": "execute_result",
          "data": {
            "text/plain": [
              "'2057-12-06\\nLorem ipsum dolor sit amet, consectetur adipiscing elit, sed do eiusmod tempor incididunt ut labore et dolore magna aliqua. Volutpat commodo sed egestas egestas. Enim lobortis scelerisque fermentum dui. A arcu cursus vitae congue mauris rhoncus aenean vel elit. Nisi quis eleifend quam adipiscing vitae. Eleifend mi in nulla posuere sollicitudin aliquam ultrices. Vulputate eu scelerisque felis imperdiet proin fermentum leo vel orci. Tellus cras adipiscing enim eu turpis. Ante metus dictum at tempor commodo. Et ligula ullamcorper malesuada proin libero nunc. Pellentesque habitant morbi tristique senectus et netus et. Ac turpis egestas maecenas pharetra convallis posuere morbi. Nisl rhoncus mattis rhoncus urna neque viverra justo nec ultrices. Pellentesque pulvinar pellentesque habitant morbi tristique senectus. Ultrices neque ornare aenean euismod elementum nisi quis eleifend.\\n1st  2nd  3rd  4th  19th 121st\\n\\n2041-02-14\\n£1.96\\n2048-05-19\\n09-02-1979\\n03-12-1953\\n\\n10-07-2066\\n$93,436,763,389.95\\n07-25-2064\\n12-04-2042\\n$9,310.38\\n\\n$36,883,717,347\\n1929-11-25\\n$4,942,986\\n$645\\n$57.55\\n1922-10-20\\n$483,094,091,202\\n05-10-2040\\n£8\\n08-27-1904\\n\\n$748,621\\n\\n\\n£577,976,482,138.47\\n£1,370.13\\n04-09-2007\\n£73.13\\n£813,088,612,642.90\\n£818,670.99\\n$85\\n2097-10-14\\n1981-10-19\\n£753\\n$1,878.50\\n1926-06-15\\n07-26-1911\\n£4.71\\n2028-06-10\\n\\n£396.96\\n09-09-1927\\n2052-03-03\\n\\n'"
            ],
            "application/vnd.google.colaboratory.intrinsic+json": {
              "type": "string"
            }
          },
          "metadata": {},
          "execution_count": 4
        }
      ]
    },
    {
      "cell_type": "code",
      "source": [
        "data = data.replace('\\n',' ')"
      ],
      "metadata": {
        "id": "AgzTbPyvyeyX"
      },
      "execution_count": 5,
      "outputs": []
    },
    {
      "cell_type": "code",
      "source": [
        "print(data)"
      ],
      "metadata": {
        "colab": {
          "base_uri": "https://localhost:8080/"
        },
        "id": "91fDno0e1Pz6",
        "outputId": "159ea2dc-2c79-48c8-b576-9cf34a5edee2"
      },
      "execution_count": 6,
      "outputs": [
        {
          "output_type": "stream",
          "name": "stdout",
          "text": [
            "2057-12-06 Lorem ipsum dolor sit amet, consectetur adipiscing elit, sed do eiusmod tempor incididunt ut labore et dolore magna aliqua. Volutpat commodo sed egestas egestas. Enim lobortis scelerisque fermentum dui. A arcu cursus vitae congue mauris rhoncus aenean vel elit. Nisi quis eleifend quam adipiscing vitae. Eleifend mi in nulla posuere sollicitudin aliquam ultrices. Vulputate eu scelerisque felis imperdiet proin fermentum leo vel orci. Tellus cras adipiscing enim eu turpis. Ante metus dictum at tempor commodo. Et ligula ullamcorper malesuada proin libero nunc. Pellentesque habitant morbi tristique senectus et netus et. Ac turpis egestas maecenas pharetra convallis posuere morbi. Nisl rhoncus mattis rhoncus urna neque viverra justo nec ultrices. Pellentesque pulvinar pellentesque habitant morbi tristique senectus. Ultrices neque ornare aenean euismod elementum nisi quis eleifend. 1st  2nd  3rd  4th  19th 121st  2041-02-14 £1.96 2048-05-19 09-02-1979 03-12-1953  10-07-2066 $93,436,763,389.95 07-25-2064 12-04-2042 $9,310.38  $36,883,717,347 1929-11-25 $4,942,986 $645 $57.55 1922-10-20 $483,094,091,202 05-10-2040 £8 08-27-1904  $748,621   £577,976,482,138.47 £1,370.13 04-09-2007 £73.13 £813,088,612,642.90 £818,670.99 $85 2097-10-14 1981-10-19 £753 $1,878.50 1926-06-15 07-26-1911 £4.71 2028-06-10  £396.96 09-09-1927 2052-03-03  \n"
          ]
        }
      ]
    },
    {
      "cell_type": "code",
      "source": [
        "#shuffling the data\n",
        "import random\n",
        "words = data.split()\n",
        "random.shuffle(words)\n",
        "data = ' '.join(words)\n",
        "(data)"
      ],
      "metadata": {
        "colab": {
          "base_uri": "https://localhost:8080/",
          "height": 140
        },
        "id": "rTOnVLqfJ0s0",
        "outputId": "55dbf755-fc2b-46b9-e452-cc31affd76c3"
      },
      "execution_count": 17,
      "outputs": [
        {
          "output_type": "execute_result",
          "data": {
            "text/plain": [
              "'Pellentesque sed 03-12-1953 pulvinar maecenas convallis et mi 2052-03-03 $4,942,986 scelerisque eiusmod Enim Et rhoncus aenean commodo posuere proin eu £818,670.99 egestas. 05-10-2040 Ac justo urna egestas turpis nulla 1929-11-25 habitant Volutpat 4th neque £73.13 Nisl morbi libero adipiscing sit mattis dictum 3rd $36,883,717,347 £577,976,482,138.47 ornare elit, enim senectus Ultrices 07-25-2064 nec turpis. malesuada morbi. 09-09-1927 aenean vitae. Pellentesque quam in 2041-02-14 tristique £753 felis mauris congue 09-02-1979 19th $483,094,091,202 cursus senectus. 1981-10-19 tempor ultrices. £4.71 2048-05-19 $85 Nisi 1st viverra et. 2057-12-06 £1.96 magna vel dui. cras 2028-06-10 amet, nunc. $748,621 imperdiet aliqua. $9,310.38 Eleifend $1,878.50 incididunt leo ipsum netus sed sollicitudin 04-09-2007 2097-10-14 euismod labore lobortis 08-27-1904 £813,088,612,642.90 et morbi aliquam ligula ultrices. 121st A metus Tellus vitae consectetur posuere fermentum 1926-06-15 2nd ullamcorper $93,436,763,389.95 07-26-1911 rhoncus eleifend adipiscing nisi quis 10-07-2066 $645 Lorem neque 1922-10-20 quis eu do at scelerisque Ante elit. $57.55 commodo. orci. fermentum tristique vel dolor pharetra £396.96 egestas ut dolore arcu elementum £1,370.13 adipiscing eleifend. tempor 12-04-2042 rhoncus habitant pellentesque proin Vulputate £8'"
            ],
            "application/vnd.google.colaboratory.intrinsic+json": {
              "type": "string"
            }
          },
          "metadata": {},
          "execution_count": 17
        }
      ]
    },
    {
      "cell_type": "markdown",
      "source": [
        "**1. Print all currencies in text**\n",
        "\n",
        "\n"
      ],
      "metadata": {
        "id": "fz2MHku-2o6n"
      }
    },
    {
      "cell_type": "code",
      "source": [
        "currency = re.findall(r'(A?U?[\\$£]([0-9,]+(\\.[0-9]+)?))', data)\n",
        "for curr in currency:\n",
        "  print(curr[0])"
      ],
      "metadata": {
        "colab": {
          "base_uri": "https://localhost:8080/"
        },
        "id": "cLesW1Jc1TL-",
        "outputId": "2323fd61-5354-4b8e-c6f7-a7ea15f17202"
      },
      "execution_count": 12,
      "outputs": [
        {
          "output_type": "stream",
          "name": "stdout",
          "text": [
            "$645\n",
            "£1,370.13\n",
            "$93,436,763,389.95\n",
            "£396.96\n",
            "£4.71\n",
            "£8\n",
            "$36,883,717,347\n",
            "$57.55\n",
            "$85\n",
            "£753\n",
            "£577,976,482,138.47\n",
            "$4,942,986\n",
            "£73.13\n",
            "£813,088,612,642.90\n",
            "$9,310.38\n",
            "$483,094,091,202\n",
            "$1,878.50\n",
            "£1.96\n",
            "£818,670.99\n",
            "$748,621\n"
          ]
        }
      ]
    },
    {
      "cell_type": "markdown",
      "source": [
        "**2. Print all date times in the text**"
      ],
      "metadata": {
        "id": "po4qPjyy6Wxy"
      }
    },
    {
      "cell_type": "code",
      "source": [
        "dates = re.findall(r'((0?[1-9]|1[0-2])(-)((0[1-9]|1[0-9]|2[0-9]|3[0-1]))(-)(\\d{4}))',data)\n",
        "for date in dates:\n",
        "  print(date[0])"
      ],
      "metadata": {
        "colab": {
          "base_uri": "https://localhost:8080/"
        },
        "id": "MUrP_7KP1ccr",
        "outputId": "422352ed-df46-4a65-f01e-db7cbb6fe1c6"
      },
      "execution_count": 13,
      "outputs": [
        {
          "output_type": "stream",
          "name": "stdout",
          "text": [
            "09-09-1927\n",
            "10-07-2066\n",
            "08-27-1904\n",
            "12-04-2042\n",
            "09-02-1979\n",
            "05-10-2040\n",
            "03-12-1953\n",
            "04-09-2007\n",
            "07-25-2064\n",
            "07-26-1911\n"
          ]
        }
      ]
    },
    {
      "cell_type": "code",
      "source": [
        "dates = re.findall(r'((\\d{4})(-)(0?[1-9]|1[0-2])(-)((0[1-9]|1[0-9]|2[0-9]|3[0-1])))',data)\n",
        "for date in dates:\n",
        "  print(date[0])"
      ],
      "metadata": {
        "colab": {
          "base_uri": "https://localhost:8080/"
        },
        "id": "XF_BMCzAGw2j",
        "outputId": "6f1c5a0a-3ec5-4581-bf92-5310f2724446"
      },
      "execution_count": 14,
      "outputs": [
        {
          "output_type": "stream",
          "name": "stdout",
          "text": [
            "1929-11-25\n",
            "2052-03-03\n",
            "2041-02-14\n",
            "1981-10-19\n",
            "1922-10-20\n",
            "1926-06-15\n",
            "2048-05-19\n",
            "2057-12-06\n",
            "2097-10-14\n",
            "2028-06-10\n"
          ]
        }
      ]
    },
    {
      "cell_type": "markdown",
      "source": [
        "**3. Print all cardinilities and orders-**\n"
      ],
      "metadata": {
        "id": "Hb4XH7J5CDHA"
      }
    },
    {
      "cell_type": "code",
      "source": [
        "orders = re.findall(r'(([0-9]+)(st|nd|rd|th))',data)\n",
        "for order in orders:\n",
        "  print(order[0])"
      ],
      "metadata": {
        "id": "2udjcjC_CCvc",
        "colab": {
          "base_uri": "https://localhost:8080/"
        },
        "outputId": "d401568d-dca1-49f6-9ede-3aad6df7b6fc"
      },
      "execution_count": 15,
      "outputs": [
        {
          "output_type": "stream",
          "name": "stdout",
          "text": [
            "121st\n",
            "4th\n",
            "19th\n",
            "3rd\n",
            "2nd\n",
            "1st\n"
          ]
        }
      ]
    },
    {
      "cell_type": "markdown",
      "source": [
        "**4. Print all 4 letter words that begin with vowels**"
      ],
      "metadata": {
        "id": "twWcm61c8bgo"
      }
    },
    {
      "cell_type": "code",
      "source": [
        "words = re.findall(r'\\s[aeiouAEIOU][a-zA-Z]{3}\\s',data)\n",
        "for word in words:\n",
        "  print(word)"
      ],
      "metadata": {
        "colab": {
          "base_uri": "https://localhost:8080/"
        },
        "id": "_ZoTTu_85fn6",
        "outputId": "2ac4dd8c-662a-43b1-aa09-5a30ce23e807"
      },
      "execution_count": 16,
      "outputs": [
        {
          "output_type": "stream",
          "name": "stdout",
          "text": [
            " arcu \n",
            " urna \n",
            " Ante \n",
            " Enim \n",
            " enim \n"
          ]
        }
      ]
    },
    {
      "cell_type": "code",
      "source": [
        ""
      ],
      "metadata": {
        "id": "7rzvAISv85GP"
      },
      "execution_count": null,
      "outputs": []
    }
  ]
}