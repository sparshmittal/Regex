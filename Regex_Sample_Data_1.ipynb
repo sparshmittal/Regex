{
  "nbformat": 4,
  "nbformat_minor": 0,
  "metadata": {
    "colab": {
      "name": "Regex Sample Data 1.ipynb",
      "provenance": [],
      "collapsed_sections": [],
      "authorship_tag": "ABX9TyN3cofVZJbve3RgEZfm2TOA",
      "include_colab_link": true
    },
    "kernelspec": {
      "name": "python3",
      "display_name": "Python 3"
    },
    "language_info": {
      "name": "python"
    }
  },
  "cells": [
    {
      "cell_type": "markdown",
      "metadata": {
        "id": "view-in-github",
        "colab_type": "text"
      },
      "source": [
        "<a href=\"https://colab.research.google.com/github/sparshmittal/Regex/blob/main/Regex_Sample_Data_1.ipynb\" target=\"_parent\"><img src=\"https://colab.research.google.com/assets/colab-badge.svg\" alt=\"Open In Colab\"/></a>"
      ]
    },
    {
      "cell_type": "code",
      "execution_count": null,
      "metadata": {
        "id": "tcAFtouRxQEg"
      },
      "outputs": [],
      "source": [
        "import re"
      ]
    },
    {
      "cell_type": "code",
      "source": [
        "name = input('Enter file name')"
      ],
      "metadata": {
        "id": "zz2SQq8RFttM",
        "colab": {
          "base_uri": "https://localhost:8080/"
        },
        "outputId": "88e79459-b9f7-44bd-b5e4-06c3af2ba921"
      },
      "execution_count": 1,
      "outputs": [
        {
          "name": "stdout",
          "output_type": "stream",
          "text": [
            "Enter file nameSample Data 1\n"
          ]
        }
      ]
    },
    {
      "cell_type": "code",
      "source": [
        "file = open(\"/content/\"+name+\".txt\", \"r\")\n",
        "data = file.read()\n",
        "print(file.read())"
      ],
      "metadata": {
        "colab": {
          "base_uri": "https://localhost:8080/"
        },
        "id": "8tfLyn-HxSQp",
        "outputId": "ea6db31e-172d-4dce-d682-fa62c1c38da5"
      },
      "execution_count": null,
      "outputs": [
        {
          "output_type": "stream",
          "name": "stdout",
          "text": [
            "The Samsung Galaxy A53 5G price is $449.99 / £399 / AU$699. That gets you the 6GB of RAM with 128GB of storage model - and it’s the only variant of the handset Samsung is offering, in the UK and Australia at least.\n",
            "\n",
            "The price sees the Galaxy A53 rub shoulders with other 5G-toting mid-rangers, including the Mi 11 Lite, OnePlus Nord 2, Moto G200 and the new iPhone SE 2022. \n",
            "\n",
            "The Samsung Galaxy A53 5G release date is set for 04-01-2022 in the UK and Australia, with pre-orders opening today, 03-17-2022.\n"
          ]
        }
      ]
    },
    {
      "cell_type": "code",
      "source": [
        "data"
      ],
      "metadata": {
        "colab": {
          "base_uri": "https://localhost:8080/",
          "height": 87
        },
        "id": "P6M12m9Qx2lO",
        "outputId": "856e1805-49c5-4ee4-efdb-a850607c7253"
      },
      "execution_count": null,
      "outputs": [
        {
          "output_type": "execute_result",
          "data": {
            "text/plain": [
              "'The Samsung Galaxy A53 5G price is $449.99 / £399 / AU$699. That gets you the 6GB of RAM with 128GB of storage model - and it’s the only variant of the handset Samsung is offering, in the UK and Australia at least.\\n\\nThe price sees the Galaxy A53 rub shoulders with other 5G-toting mid-rangers, including the Mi 11 Lite, OnePlus Nord 2, Moto G200 and the new iPhone SE 2022. \\n\\nThe Samsung Galaxy A53 5G release date is set for 04-01-2022 in the UK and Australia, with pre-orders opening today, 03-17-2022.'"
            ],
            "application/vnd.google.colaboratory.intrinsic+json": {
              "type": "string"
            }
          },
          "metadata": {},
          "execution_count": 17
        }
      ]
    },
    {
      "cell_type": "code",
      "source": [
        "data = data.replace('\\n',' ')"
      ],
      "metadata": {
        "id": "AgzTbPyvyeyX"
      },
      "execution_count": null,
      "outputs": []
    },
    {
      "cell_type": "code",
      "source": [
        "print(data)"
      ],
      "metadata": {
        "colab": {
          "base_uri": "https://localhost:8080/"
        },
        "id": "91fDno0e1Pz6",
        "outputId": "a56200d7-cfac-451f-dcaf-d07fcf371451"
      },
      "execution_count": null,
      "outputs": [
        {
          "output_type": "stream",
          "name": "stdout",
          "text": [
            "The Samsung Galaxy A53 5G price is $449.99 / £399 / AU$699. That gets you the 6GB of RAM with 128GB of storage model - and it’s the only variant of the handset Samsung is offering, in the UK and Australia at least.  The price sees the Galaxy A53 rub shoulders with other 5G-toting mid-rangers, including the Mi 11 Lite, OnePlus Nord 2, Moto G200 and the new iPhone SE 2022.   The Samsung Galaxy A53 5G release date is set for 04-01-2022 in the UK and Australia, with pre-orders opening today, 03-17-2022.\n"
          ]
        }
      ]
    },
    {
      "cell_type": "markdown",
      "source": [
        "**1. Print all currencies in text**\n",
        "\n",
        "Our text has following currencies - \\$449.99 / £399 / AU\\$699\n",
        "\n",
        "(A?U?[\\$£]) <--- checks the currency symbol. We can add more currency symbols in the square brackets. \n",
        "\n",
        "[0-9]+      <--- checks digit after currency\n",
        "\n",
        "(\\.[0-9]+)?)<--- checks digits after decimal if any\n",
        "\n",
        "\n"
      ],
      "metadata": {
        "id": "fz2MHku-2o6n"
      }
    },
    {
      "cell_type": "code",
      "source": [
        "currency = re.findall(r'(A?U?[\\$£]([0-9]+(\\.[0-9]+)?))', data)\n",
        "for curr in currency:\n",
        "  print(curr[0])"
      ],
      "metadata": {
        "colab": {
          "base_uri": "https://localhost:8080/"
        },
        "id": "cLesW1Jc1TL-",
        "outputId": "9c54053a-72b0-4e7a-b19d-d0c1941a1700"
      },
      "execution_count": null,
      "outputs": [
        {
          "output_type": "stream",
          "name": "stdout",
          "text": [
            "$449.99\n",
            "£399\n",
            "AU$699\n"
          ]
        }
      ]
    },
    {
      "cell_type": "markdown",
      "source": [
        "**2. Print all date times in the text**\n",
        "\n",
        "(0?[1-9]|1[0-2])   <-- To check month->mm because only 0/1 as fist digit of the month and only 10,11,12 for first digit 1.\n",
        "\n",
        "(0[1-9]|1[0-9]|2[0-9]|3[0-1])   <-- To check date->dd because only 0/1/2/3 as fist digit of the date with diff 2nd digits.Also range of date is 1-31.\n",
        "\n",
        "\\d{4}   <--- To check the year->yyyy beacuse we can assume any 4 digits can be possible in year\n",
        "\n",
        "we can arrange these to get desired format - dd/mm/yyyy, dd/mm/yy, mm/dd/yyyy, mm/dd/yy"
      ],
      "metadata": {
        "id": "po4qPjyy6Wxy"
      }
    },
    {
      "cell_type": "code",
      "source": [
        "dates = re.findall(r'((0?[1-9]|1[0-2])(-)((0[1-9]|1[0-9]|2[0-9]|3[0-1]))(-)(\\d{4}))',data)\n",
        "for date in dates:\n",
        "  print(date[0])"
      ],
      "metadata": {
        "colab": {
          "base_uri": "https://localhost:8080/"
        },
        "id": "MUrP_7KP1ccr",
        "outputId": "4da4ae87-a81a-4f9e-9abf-1573b0dd9d3d"
      },
      "execution_count": null,
      "outputs": [
        {
          "output_type": "stream",
          "name": "stdout",
          "text": [
            "04-01-2022\n",
            "03-17-2022\n"
          ]
        }
      ]
    },
    {
      "cell_type": "markdown",
      "source": [
        "**3. Print all cardinilities and orders-**\n",
        "\n",
        "For 1st/2nd/3rd etc -  ([0-9]+) for number and (st|nd|rd|th) for the suffix\n",
        "\n",
        "For first/second/nineteenth etc if we use ([a-zA-Z]+)(st|nd|rd|th), it also shows other words like with/last etc. And then there are different rules for words like twenty - twentieth, twenty one - twenty first, twelve - twelfth so we cant match them on word names of numbers either."
      ],
      "metadata": {
        "id": "Hb4XH7J5CDHA"
      }
    },
    {
      "cell_type": "code",
      "source": [
        "#no cardinality/order in this data\n",
        "orders = re.findall(r'(([0-9]+)(st|nd|rd|th))',data)\n",
        "for order in orders:\n",
        "  print(order[0])"
      ],
      "metadata": {
        "id": "2udjcjC_CCvc"
      },
      "execution_count": null,
      "outputs": []
    },
    {
      "cell_type": "markdown",
      "source": [
        "**4. Print all 4 letter words that begin with vowels**\n",
        "\n",
        "\\s at front and back to check for spaces\n",
        "\n",
        "[aeiouAEIOU] to check if first letter is vowel\n",
        "\n",
        "[a-zA-Z]{3}   for remaining 3 letters"
      ],
      "metadata": {
        "id": "twWcm61c8bgo"
      }
    },
    {
      "cell_type": "code",
      "source": [
        "words = re.findall(r'\\s[aeiouAEIOU][a-zA-Z]{3}\\s',data)\n",
        "for word in words:\n",
        "  print(word)"
      ],
      "metadata": {
        "colab": {
          "base_uri": "https://localhost:8080/"
        },
        "id": "_ZoTTu_85fn6",
        "outputId": "30245987-d683-4a7d-998b-faf912bf9085"
      },
      "execution_count": null,
      "outputs": [
        {
          "output_type": "stream",
          "name": "stdout",
          "text": [
            " only \n"
          ]
        }
      ]
    },
    {
      "cell_type": "code",
      "source": [
        ""
      ],
      "metadata": {
        "id": "7rzvAISv85GP"
      },
      "execution_count": null,
      "outputs": []
    }
  ]
}