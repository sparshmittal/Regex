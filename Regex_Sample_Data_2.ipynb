{
  "nbformat": 4,
  "nbformat_minor": 0,
  "metadata": {
    "colab": {
      "name": "Regex Sample Data 2.ipynb",
      "provenance": [],
      "collapsed_sections": [],
      "authorship_tag": "ABX9TyNUAon+9AZm/nNkmqDlv7WH",
      "include_colab_link": true
    },
    "kernelspec": {
      "name": "python3",
      "display_name": "Python 3"
    },
    "language_info": {
      "name": "python"
    }
  },
  "cells": [
    {
      "cell_type": "markdown",
      "metadata": {
        "id": "view-in-github",
        "colab_type": "text"
      },
      "source": [
        "<a href=\"https://colab.research.google.com/github/sparshmittal/Regex/blob/main/Regex_Sample_Data_2.ipynb\" target=\"_parent\"><img src=\"https://colab.research.google.com/assets/colab-badge.svg\" alt=\"Open In Colab\"/></a>"
      ]
    },
    {
      "cell_type": "code",
      "execution_count": null,
      "metadata": {
        "id": "tcAFtouRxQEg"
      },
      "outputs": [],
      "source": [
        "import re"
      ]
    },
    {
      "cell_type": "code",
      "source": [
        "name = input('Enter file name')"
      ],
      "metadata": {
        "id": "zz2SQq8RFttM",
        "colab": {
          "base_uri": "https://localhost:8080/"
        },
        "outputId": "82716908-8c2c-4238-c49f-adec9a33c3e4"
      },
      "execution_count": null,
      "outputs": [
        {
          "name": "stdout",
          "output_type": "stream",
          "text": [
            "Entere file nameSample Data 2\n"
          ]
        }
      ]
    },
    {
      "cell_type": "code",
      "source": [
        "file = open(\"/content/\"+name+\".txt\", \"r\")\n",
        "data = file.read()\n",
        "print(file.read())"
      ],
      "metadata": {
        "colab": {
          "base_uri": "https://localhost:8080/"
        },
        "id": "8tfLyn-HxSQp",
        "outputId": "5cb0b474-a0b0-4742-d518-f467f402fe60"
      },
      "execution_count": null,
      "outputs": [
        {
          "output_type": "stream",
          "name": "stdout",
          "text": [
            "\n"
          ]
        }
      ]
    },
    {
      "cell_type": "code",
      "source": [
        "data"
      ],
      "metadata": {
        "colab": {
          "base_uri": "https://localhost:8080/",
          "height": 122
        },
        "id": "P6M12m9Qx2lO",
        "outputId": "839ccdd5-13e9-45fb-b712-db4d55b673b0"
      },
      "execution_count": null,
      "outputs": [
        {
          "output_type": "execute_result",
          "data": {
            "text/plain": [
              "'£1,370.13\\n£813,088,612,642.90\\n£4.71\\n£818,670.99\\n£577,976,482,138.47\\n£753\\n£73.13\\n£396.96\\n£8\\n£1.96\\n\\n$93,436,763,389.95\\n$36,883,717,347\\n$9,310.38\\n$645\\n$748,621\\n$483,094,091,202\\n$1,878.50\\n$85\\n$57.55\\n$4,942,986\\n\\n1926-06-15\\n2052-03-03\\n1922-10-20\\n2048-05-19\\n2057-12-06\\n2028-06-10\\n2041-02-14\\n1981-10-19\\n1929-11-25\\n2097-10-14\\n\\n12-04-2042\\n09-09-1927\\n05-10-2040\\n03-12-1953\\n10-07-2066\\n09-02-1979\\n04-09-2007\\n07-26-1911\\n08-27-1904\\n07-25-2064\\n\\n\\nLorem ipsum dolor sit amet, consectetur adipiscing elit, sed do eiusmod tempor incididunt ut labore et dolore magna aliqua. Volutpat commodo sed egestas egestas. Enim lobortis scelerisque fermentum dui. A arcu cursus vitae congue mauris rhoncus aenean vel elit. Nisi quis eleifend quam adipiscing vitae. Eleifend mi in nulla posuere sollicitudin aliquam ultrices. Vulputate eu scelerisque felis imperdiet proin fermentum leo vel orci. Tellus cras adipiscing enim eu turpis. Ante metus dictum at tempor commodo. Et ligula ullamcorper malesuada proin libero nunc. Pellentesque habitant morbi tristique senectus et netus et. Ac turpis egestas maecenas pharetra convallis posuere morbi. Nisl rhoncus mattis rhoncus urna neque viverra justo nec ultrices. Pellentesque pulvinar pellentesque habitant morbi tristique senectus. Ultrices neque ornare aenean euismod elementum nisi quis eleifend.\\n\\n\\n\\n1st  2nd  3rd  4th  19th 121st'"
            ],
            "application/vnd.google.colaboratory.intrinsic+json": {
              "type": "string"
            }
          },
          "metadata": {},
          "execution_count": 6
        }
      ]
    },
    {
      "cell_type": "code",
      "source": [
        "data = data.replace('\\n',' ')"
      ],
      "metadata": {
        "id": "AgzTbPyvyeyX"
      },
      "execution_count": null,
      "outputs": []
    },
    {
      "cell_type": "code",
      "source": [
        "print(data)"
      ],
      "metadata": {
        "colab": {
          "base_uri": "https://localhost:8080/"
        },
        "id": "91fDno0e1Pz6",
        "outputId": "7ee0e6c0-45bb-46f6-8242-61f82976da97"
      },
      "execution_count": null,
      "outputs": [
        {
          "output_type": "stream",
          "name": "stdout",
          "text": [
            "£1,370.13 £813,088,612,642.90 £4.71 £818,670.99 £577,976,482,138.47 £753 £73.13 £396.96 £8 £1.96  $93,436,763,389.95 $36,883,717,347 $9,310.38 $645 $748,621 $483,094,091,202 $1,878.50 $85 $57.55 $4,942,986  1926-06-15 2052-03-03 1922-10-20 2048-05-19 2057-12-06 2028-06-10 2041-02-14 1981-10-19 1929-11-25 2097-10-14  12-04-2042 09-09-1927 05-10-2040 03-12-1953 10-07-2066 09-02-1979 04-09-2007 07-26-1911 08-27-1904 07-25-2064   Lorem ipsum dolor sit amet, consectetur adipiscing elit, sed do eiusmod tempor incididunt ut labore et dolore magna aliqua. Volutpat commodo sed egestas egestas. Enim lobortis scelerisque fermentum dui. A arcu cursus vitae congue mauris rhoncus aenean vel elit. Nisi quis eleifend quam adipiscing vitae. Eleifend mi in nulla posuere sollicitudin aliquam ultrices. Vulputate eu scelerisque felis imperdiet proin fermentum leo vel orci. Tellus cras adipiscing enim eu turpis. Ante metus dictum at tempor commodo. Et ligula ullamcorper malesuada proin libero nunc. Pellentesque habitant morbi tristique senectus et netus et. Ac turpis egestas maecenas pharetra convallis posuere morbi. Nisl rhoncus mattis rhoncus urna neque viverra justo nec ultrices. Pellentesque pulvinar pellentesque habitant morbi tristique senectus. Ultrices neque ornare aenean euismod elementum nisi quis eleifend.    1st  2nd  3rd  4th  19th 121st\n"
          ]
        }
      ]
    },
    {
      "cell_type": "markdown",
      "source": [
        "**1. Print all currencies in text**\n",
        "\n",
        "\n"
      ],
      "metadata": {
        "id": "fz2MHku-2o6n"
      }
    },
    {
      "cell_type": "code",
      "source": [
        "currency = re.findall(r'(A?U?[\\$£]([0-9,]+(\\.[0-9]+)?))', data)\n",
        "for curr in currency:\n",
        "  print(curr[0])"
      ],
      "metadata": {
        "colab": {
          "base_uri": "https://localhost:8080/"
        },
        "id": "cLesW1Jc1TL-",
        "outputId": "1af92f91-c91b-4603-d0ed-bb2ce871fc45"
      },
      "execution_count": null,
      "outputs": [
        {
          "output_type": "stream",
          "name": "stdout",
          "text": [
            "£1,370.13\n",
            "£813,088,612,642.90\n",
            "£4.71\n",
            "£818,670.99\n",
            "£577,976,482,138.47\n",
            "£753\n",
            "£73.13\n",
            "£396.96\n",
            "£8\n",
            "£1.96\n",
            "$93,436,763,389.95\n",
            "$36,883,717,347\n",
            "$9,310.38\n",
            "$645\n",
            "$748,621\n",
            "$483,094,091,202\n",
            "$1,878.50\n",
            "$85\n",
            "$57.55\n",
            "$4,942,986\n"
          ]
        }
      ]
    },
    {
      "cell_type": "markdown",
      "source": [
        "**2. Print all date times in the text**"
      ],
      "metadata": {
        "id": "po4qPjyy6Wxy"
      }
    },
    {
      "cell_type": "code",
      "source": [
        "dates = re.findall(r'((0?[1-9]|1[0-2])(-)((0[1-9]|1[0-9]|2[0-9]|3[0-1]))(-)(\\d{4}))',data)\n",
        "for date in dates:\n",
        "  print(date[0])"
      ],
      "metadata": {
        "colab": {
          "base_uri": "https://localhost:8080/"
        },
        "id": "MUrP_7KP1ccr",
        "outputId": "ed35478c-97ad-4db1-c9fc-b15005f2cfb1"
      },
      "execution_count": null,
      "outputs": [
        {
          "output_type": "stream",
          "name": "stdout",
          "text": [
            "12-04-2042\n",
            "09-09-1927\n",
            "05-10-2040\n",
            "03-12-1953\n",
            "10-07-2066\n",
            "09-02-1979\n",
            "04-09-2007\n",
            "07-26-1911\n",
            "08-27-1904\n",
            "07-25-2064\n"
          ]
        }
      ]
    },
    {
      "cell_type": "code",
      "source": [
        "dates = re.findall(r'((\\d{4})(-)(0?[1-9]|1[0-2])(-)((0[1-9]|1[0-9]|2[0-9]|3[0-1])))',data)\n",
        "for date in dates:\n",
        "  print(date[0])"
      ],
      "metadata": {
        "colab": {
          "base_uri": "https://localhost:8080/"
        },
        "id": "XF_BMCzAGw2j",
        "outputId": "9ac11a77-ee1a-46f8-92b4-772336d4db4a"
      },
      "execution_count": null,
      "outputs": [
        {
          "output_type": "stream",
          "name": "stdout",
          "text": [
            "1926-06-15\n",
            "2052-03-03\n",
            "1922-10-20\n",
            "2048-05-19\n",
            "2057-12-06\n",
            "2028-06-10\n",
            "2041-02-14\n",
            "1981-10-19\n",
            "1929-11-25\n",
            "2097-10-14\n"
          ]
        }
      ]
    },
    {
      "cell_type": "markdown",
      "source": [
        "**3. Print all cardinilities and orders-**\n"
      ],
      "metadata": {
        "id": "Hb4XH7J5CDHA"
      }
    },
    {
      "cell_type": "code",
      "source": [
        "orders = re.findall(r'(([0-9]+)(st|nd|rd|th))',data)\n",
        "for order in orders:\n",
        "  print(order[0])"
      ],
      "metadata": {
        "id": "2udjcjC_CCvc",
        "colab": {
          "base_uri": "https://localhost:8080/"
        },
        "outputId": "15a2b6c8-0570-4aa8-a37a-7093a382eac0"
      },
      "execution_count": null,
      "outputs": [
        {
          "output_type": "stream",
          "name": "stdout",
          "text": [
            "1st\n",
            "2nd\n",
            "3rd\n",
            "4th\n",
            "19th\n",
            "121st\n"
          ]
        }
      ]
    },
    {
      "cell_type": "markdown",
      "source": [
        "**4. Print all 4 letter words that begin with vowels**"
      ],
      "metadata": {
        "id": "twWcm61c8bgo"
      }
    },
    {
      "cell_type": "code",
      "source": [
        "words = re.findall(r'\\s[aeiouAEIOU][a-zA-Z]{3}\\s',data)\n",
        "for word in words:\n",
        "  print(word)"
      ],
      "metadata": {
        "colab": {
          "base_uri": "https://localhost:8080/"
        },
        "id": "_ZoTTu_85fn6",
        "outputId": "c2812855-ad8e-4ecc-8df3-31ef26fc0bb4"
      },
      "execution_count": null,
      "outputs": [
        {
          "output_type": "stream",
          "name": "stdout",
          "text": [
            " Enim \n",
            " arcu \n",
            " enim \n",
            " Ante \n",
            " urna \n"
          ]
        }
      ]
    },
    {
      "cell_type": "code",
      "source": [
        ""
      ],
      "metadata": {
        "id": "7rzvAISv85GP"
      },
      "execution_count": null,
      "outputs": []
    }
  ]
}